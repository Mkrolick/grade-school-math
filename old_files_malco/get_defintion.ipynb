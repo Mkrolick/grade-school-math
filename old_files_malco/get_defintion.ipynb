{
 "cells": [
  {
   "cell_type": "code",
   "execution_count": 7,
   "metadata": {},
   "outputs": [
    {
     "data": {
      "text/plain": [
       "True"
      ]
     },
     "execution_count": 7,
     "metadata": {},
     "output_type": "execute_result"
    }
   ],
   "source": [
    "from dotenv import load_dotenv\n",
    "from os import getenv\n",
    "load_dotenv()\n",
    "\n",
    "\n",
    "# make a decorator to keep api key safe by assigning none after execution of function"
   ]
  },
  {
   "cell_type": "code",
   "execution_count": 8,
   "metadata": {},
   "outputs": [
    {
     "name": "stdout",
     "output_type": "stream",
     "text": [
      "{\"word\":\"hatchback\",\"typeOf\":[\"car door\",\"auto\",\"automobile\",\"car\",\"machine\",\"motorcar\"]}\n"
     ]
    }
   ],
   "source": [
    "import requests\n",
    "\n",
    "\n",
    "RapidApiKey = getenv(\"RAPID_API_KEY\")\n",
    "\n",
    "word = \"hatchback\"\n",
    "\n",
    "url = f\"https://wordsapiv1.p.rapidapi.com/words/{word}/typeOf\"\n",
    "\n",
    "headers = {\n",
    "\t\"X-RapidAPI-Key\": RapidApiKey,\n",
    "\t\"X-RapidAPI-Host\": \"wordsapiv1.p.rapidapi.com\"\n",
    "}\n",
    "\n",
    "response = requests.request(\"GET\", url, headers=headers)\n",
    "\n",
    "print(response.text)\n",
    "\n",
    "\n",
    "RapidApiKey = None"
   ]
  },
  {
   "cell_type": "code",
   "execution_count": 9,
   "metadata": {},
   "outputs": [
    {
     "name": "stdout",
     "output_type": "stream",
     "text": [
      "{\"word\":\"incredible\",\"definitions\":[{\"definition\":\"beyond belief or understanding\",\"partOfSpeech\":\"adjective\"}]}\n"
     ]
    }
   ],
   "source": [
    "import requests\n",
    "\n",
    "RapidApiKey = getenv(\"RAPID_API_KEY\")\n",
    "\n",
    "url = \"https://wordsapiv1.p.rapidapi.com/words/incredible/definitions\"\n",
    "\n",
    "headers = {\n",
    "\t\"X-RapidAPI-Key\": RapidApiKey,\n",
    "\t\"X-RapidAPI-Host\": \"wordsapiv1.p.rapidapi.com\"\n",
    "}\n",
    "\n",
    "response = requests.request(\"GET\", url, headers=headers)\n",
    "\n",
    "print(response.text)\n",
    "\n",
    "\n",
    "\n",
    "RapidApiKey = None"
   ]
  },
  {
   "cell_type": "code",
   "execution_count": 12,
   "metadata": {},
   "outputs": [],
   "source": [
    "import requests\n",
    "import ast\n",
    "import re\n",
    "\n",
    "\n",
    "# add threading to improve speed\n",
    "def define(word, remove_gaps = False):\n",
    "\n",
    "    try:\n",
    "        RapidApiKey = getenv(\"RAPID_API_KEY\")\n",
    "\n",
    "        url = f\"https://wordsapiv1.p.rapidapi.com/words/{word}/definitions\"\n",
    "\n",
    "        headers = {\n",
    "            \"X-RapidAPI-Key\": RapidApiKey,\n",
    "            \"X-RapidAPI-Host\": \"wordsapiv1.p.rapidapi.com\"\n",
    "        }\n",
    "\n",
    "        response = requests.request(\"GET\", url, headers=headers)\n",
    "        \n",
    "        response_object = ast.literal_eval(response.text)\n",
    "        \n",
    "        #testing\n",
    "        #print(response_object)\n",
    "\n",
    "        # check if works\n",
    "        if \"success\" in response_object.keys():\n",
    "            raise \"Error Word Does Not Exist\"\n",
    "        else:\n",
    "            \n",
    "            #grab definitions\n",
    "            definitions = [x[\"definition\"] for x in response_object[\"definitions\"]]\n",
    "\n",
    "            if remove_gaps:\n",
    "                new_definition = []\n",
    "                \n",
    "                for definition in definitions:\n",
    "                    definition = re.split(';.', definition)[0]\n",
    "                    new_definition.append(definition)\n",
    "                \n",
    "                return new_definition\n",
    "\n",
    "            return definitions\n",
    "    except:\n",
    "        raise \"Error Word Does Not Exist\"\n",
    "\n",
    "RapidApiKey = None"
   ]
  },
  {
   "cell_type": "code",
   "execution_count": 13,
   "metadata": {},
   "outputs": [
    {
     "data": {
      "text/plain": [
       "['a motor vehicle with four wheels',\n",
       " 'the compartment that is suspended from an airship and that carries personnel and the cargo and the power plant',\n",
       " 'where passengers ride up and down',\n",
       " 'a wheeled vehicle adapted to the rails of railroad',\n",
       " 'a conveyance for passengers or freight on a cable railway']"
      ]
     },
     "execution_count": 13,
     "metadata": {},
     "output_type": "execute_result"
    }
   ],
   "source": [
    "define(\"car\", remove_gaps=True)"
   ]
  },
  {
   "cell_type": "code",
   "execution_count": 14,
   "metadata": {},
   "outputs": [
    {
     "data": {
      "text/html": [
       "<div>\n",
       "<style scoped>\n",
       "    .dataframe tbody tr th:only-of-type {\n",
       "        vertical-align: middle;\n",
       "    }\n",
       "\n",
       "    .dataframe tbody tr th {\n",
       "        vertical-align: top;\n",
       "    }\n",
       "\n",
       "    .dataframe thead th {\n",
       "        text-align: right;\n",
       "    }\n",
       "</style>\n",
       "<table border=\"1\" class=\"dataframe\">\n",
       "  <thead>\n",
       "    <tr style=\"text-align: right;\">\n",
       "      <th></th>\n",
       "      <th>word</th>\n",
       "      <th>count</th>\n",
       "    </tr>\n",
       "  </thead>\n",
       "  <tbody>\n",
       "    <tr>\n",
       "      <th>0</th>\n",
       "      <td>the</td>\n",
       "      <td>23135851162</td>\n",
       "    </tr>\n",
       "    <tr>\n",
       "      <th>1</th>\n",
       "      <td>of</td>\n",
       "      <td>13151942776</td>\n",
       "    </tr>\n",
       "    <tr>\n",
       "      <th>2</th>\n",
       "      <td>and</td>\n",
       "      <td>12997637966</td>\n",
       "    </tr>\n",
       "    <tr>\n",
       "      <th>3</th>\n",
       "      <td>to</td>\n",
       "      <td>12136980858</td>\n",
       "    </tr>\n",
       "    <tr>\n",
       "      <th>4</th>\n",
       "      <td>a</td>\n",
       "      <td>9081174698</td>\n",
       "    </tr>\n",
       "    <tr>\n",
       "      <th>...</th>\n",
       "      <td>...</td>\n",
       "      <td>...</td>\n",
       "    </tr>\n",
       "    <tr>\n",
       "      <th>333328</th>\n",
       "      <td>gooek</td>\n",
       "      <td>12711</td>\n",
       "    </tr>\n",
       "    <tr>\n",
       "      <th>333329</th>\n",
       "      <td>gooddg</td>\n",
       "      <td>12711</td>\n",
       "    </tr>\n",
       "    <tr>\n",
       "      <th>333330</th>\n",
       "      <td>gooblle</td>\n",
       "      <td>12711</td>\n",
       "    </tr>\n",
       "    <tr>\n",
       "      <th>333331</th>\n",
       "      <td>gollgo</td>\n",
       "      <td>12711</td>\n",
       "    </tr>\n",
       "    <tr>\n",
       "      <th>333332</th>\n",
       "      <td>golgw</td>\n",
       "      <td>12711</td>\n",
       "    </tr>\n",
       "  </tbody>\n",
       "</table>\n",
       "<p>333333 rows × 2 columns</p>\n",
       "</div>"
      ],
      "text/plain": [
       "           word        count\n",
       "0           the  23135851162\n",
       "1            of  13151942776\n",
       "2           and  12997637966\n",
       "3            to  12136980858\n",
       "4             a   9081174698\n",
       "...         ...          ...\n",
       "333328    gooek        12711\n",
       "333329   gooddg        12711\n",
       "333330  gooblle        12711\n",
       "333331   gollgo        12711\n",
       "333332    golgw        12711\n",
       "\n",
       "[333333 rows x 2 columns]"
      ]
     },
     "execution_count": 14,
     "metadata": {},
     "output_type": "execute_result"
    }
   ],
   "source": [
    "import pandas as pd\n",
    "\n",
    "data = pd.read_csv(\"english_word_data/unigram_freq.csv\")\n",
    "data"
   ]
  },
  {
   "cell_type": "code",
   "execution_count": 22,
   "metadata": {},
   "outputs": [],
   "source": [
    "import gmpy2\n",
    "from gmpy2 import mpfr\n",
    "\n",
    "gmpy2.get_context().precision=100"
   ]
  },
  {
   "cell_type": "code",
   "execution_count": 23,
   "metadata": {},
   "outputs": [
    {
     "data": {
      "text/html": [
       "<div>\n",
       "<style scoped>\n",
       "    .dataframe tbody tr th:only-of-type {\n",
       "        vertical-align: middle;\n",
       "    }\n",
       "\n",
       "    .dataframe tbody tr th {\n",
       "        vertical-align: top;\n",
       "    }\n",
       "\n",
       "    .dataframe thead th {\n",
       "        text-align: right;\n",
       "    }\n",
       "</style>\n",
       "<table border=\"1\" class=\"dataframe\">\n",
       "  <thead>\n",
       "    <tr style=\"text-align: right;\">\n",
       "      <th></th>\n",
       "      <th>word</th>\n",
       "      <th>count</th>\n",
       "    </tr>\n",
       "  </thead>\n",
       "  <tbody>\n",
       "    <tr>\n",
       "      <th>0</th>\n",
       "      <td>the</td>\n",
       "      <td>23135851162</td>\n",
       "    </tr>\n",
       "    <tr>\n",
       "      <th>1</th>\n",
       "      <td>of</td>\n",
       "      <td>13151942776</td>\n",
       "    </tr>\n",
       "    <tr>\n",
       "      <th>2</th>\n",
       "      <td>and</td>\n",
       "      <td>12997637966</td>\n",
       "    </tr>\n",
       "    <tr>\n",
       "      <th>3</th>\n",
       "      <td>to</td>\n",
       "      <td>12136980858</td>\n",
       "    </tr>\n",
       "    <tr>\n",
       "      <th>4</th>\n",
       "      <td>a</td>\n",
       "      <td>9081174698</td>\n",
       "    </tr>\n",
       "    <tr>\n",
       "      <th>...</th>\n",
       "      <td>...</td>\n",
       "      <td>...</td>\n",
       "    </tr>\n",
       "    <tr>\n",
       "      <th>333328</th>\n",
       "      <td>gooek</td>\n",
       "      <td>12711</td>\n",
       "    </tr>\n",
       "    <tr>\n",
       "      <th>333329</th>\n",
       "      <td>gooddg</td>\n",
       "      <td>12711</td>\n",
       "    </tr>\n",
       "    <tr>\n",
       "      <th>333330</th>\n",
       "      <td>gooblle</td>\n",
       "      <td>12711</td>\n",
       "    </tr>\n",
       "    <tr>\n",
       "      <th>333331</th>\n",
       "      <td>gollgo</td>\n",
       "      <td>12711</td>\n",
       "    </tr>\n",
       "    <tr>\n",
       "      <th>333332</th>\n",
       "      <td>golgw</td>\n",
       "      <td>12711</td>\n",
       "    </tr>\n",
       "  </tbody>\n",
       "</table>\n",
       "<p>333333 rows × 2 columns</p>\n",
       "</div>"
      ],
      "text/plain": [
       "           word        count\n",
       "0           the  23135851162\n",
       "1            of  13151942776\n",
       "2           and  12997637966\n",
       "3            to  12136980858\n",
       "4             a   9081174698\n",
       "...         ...          ...\n",
       "333328    gooek        12711\n",
       "333329   gooddg        12711\n",
       "333330  gooblle        12711\n",
       "333331   gollgo        12711\n",
       "333332    golgw        12711\n",
       "\n",
       "[333333 rows x 2 columns]"
      ]
     },
     "execution_count": 23,
     "metadata": {},
     "output_type": "execute_result"
    }
   ],
   "source": [
    "import pandas as pd\n",
    "\n",
    "data = pd.read_csv(\"english_word_data/unigram_freq.csv\")\n",
    "data"
   ]
  },
  {
   "cell_type": "code",
   "execution_count": 24,
   "metadata": {},
   "outputs": [
    {
     "name": "stdout",
     "output_type": "stream",
     "text": [
      "object\n",
      "object\n"
     ]
    }
   ],
   "source": [
    "data[\"count\"] = data[\"count\"].astype(str)\n",
    "\n",
    "new_series = data[\"count\"].apply(lambda x: mpfr(x))\n",
    "\n",
    "print(data[\"count\"].dtype)\n",
    "\n",
    "\n",
    "data[\"count\"] = new_series\n",
    "\n",
    "print(data[\"count\"].dtype)\n"
   ]
  },
  {
   "cell_type": "code",
   "execution_count": 25,
   "metadata": {},
   "outputs": [
    {
     "data": {
      "text/plain": [
       "0         23135851162.0\n",
       "1         13151942776.0\n",
       "2         12997637966.0\n",
       "3         12136980858.0\n",
       "4          9081174698.0\n",
       "              ...      \n",
       "333328          12711.0\n",
       "333329          12711.0\n",
       "333330          12711.0\n",
       "333331          12711.0\n",
       "333332          12711.0\n",
       "Name: count, Length: 333333, dtype: object"
      ]
     },
     "execution_count": 25,
     "metadata": {},
     "output_type": "execute_result"
    }
   ],
   "source": [
    "type(new_series)\n",
    "new_series"
   ]
  },
  {
   "cell_type": "code",
   "execution_count": 26,
   "metadata": {},
   "outputs": [],
   "source": [
    "total_vals = sum(new_series)"
   ]
  },
  {
   "cell_type": "code",
   "execution_count": 27,
   "metadata": {},
   "outputs": [],
   "source": [
    "new_series = data[\"count\"].apply(lambda x: mpfr(x) / total_vals)"
   ]
  },
  {
   "cell_type": "code",
   "execution_count": 28,
   "metadata": {},
   "outputs": [],
   "source": [
    "data[\"count\"] = new_series"
   ]
  },
  {
   "cell_type": "code",
   "execution_count": 29,
   "metadata": {},
   "outputs": [
    {
     "data": {
      "text/plain": [
       "0           0.039338375070905469361116733518407\n",
       "1           0.022362525338300483121980267461494\n",
       "2            0.02210015761953702659133231416216\n",
       "3           0.020636764209678229359080248573774\n",
       "4           0.015440912627459126472746086446833\n",
       "                          ...                  \n",
       "333328    2.1612781048123489870899905115525e-08\n",
       "333329    2.1612781048123489870899905115525e-08\n",
       "333330    2.1612781048123489870899905115525e-08\n",
       "333331    2.1612781048123489870899905115525e-08\n",
       "333332    2.1612781048123489870899905115525e-08\n",
       "Name: count, Length: 333333, dtype: object"
      ]
     },
     "execution_count": 29,
     "metadata": {},
     "output_type": "execute_result"
    }
   ],
   "source": [
    "data[\"count\"]"
   ]
  },
  {
   "cell_type": "code",
   "execution_count": 31,
   "metadata": {},
   "outputs": [
    {
     "data": {
      "text/html": [
       "<div>\n",
       "<style scoped>\n",
       "    .dataframe tbody tr th:only-of-type {\n",
       "        vertical-align: middle;\n",
       "    }\n",
       "\n",
       "    .dataframe tbody tr th {\n",
       "        vertical-align: top;\n",
       "    }\n",
       "\n",
       "    .dataframe thead th {\n",
       "        text-align: right;\n",
       "    }\n",
       "</style>\n",
       "<table border=\"1\" class=\"dataframe\">\n",
       "  <thead>\n",
       "    <tr style=\"text-align: right;\">\n",
       "      <th></th>\n",
       "      <th>word</th>\n",
       "      <th>count</th>\n",
       "    </tr>\n",
       "  </thead>\n",
       "  <tbody>\n",
       "    <tr>\n",
       "      <th>0</th>\n",
       "      <td>the</td>\n",
       "      <td>0.039338375070905469361116733518407</td>\n",
       "    </tr>\n",
       "    <tr>\n",
       "      <th>1</th>\n",
       "      <td>of</td>\n",
       "      <td>0.022362525338300483121980267461494</td>\n",
       "    </tr>\n",
       "    <tr>\n",
       "      <th>2</th>\n",
       "      <td>and</td>\n",
       "      <td>0.02210015761953702659133231416216</td>\n",
       "    </tr>\n",
       "    <tr>\n",
       "      <th>3</th>\n",
       "      <td>to</td>\n",
       "      <td>0.020636764209678229359080248573774</td>\n",
       "    </tr>\n",
       "    <tr>\n",
       "      <th>4</th>\n",
       "      <td>a</td>\n",
       "      <td>0.015440912627459126472746086446833</td>\n",
       "    </tr>\n",
       "    <tr>\n",
       "      <th>...</th>\n",
       "      <td>...</td>\n",
       "      <td>...</td>\n",
       "    </tr>\n",
       "    <tr>\n",
       "      <th>333328</th>\n",
       "      <td>gooek</td>\n",
       "      <td>2.1612781048123489870899905115525e-08</td>\n",
       "    </tr>\n",
       "    <tr>\n",
       "      <th>333329</th>\n",
       "      <td>gooddg</td>\n",
       "      <td>2.1612781048123489870899905115525e-08</td>\n",
       "    </tr>\n",
       "    <tr>\n",
       "      <th>333330</th>\n",
       "      <td>gooblle</td>\n",
       "      <td>2.1612781048123489870899905115525e-08</td>\n",
       "    </tr>\n",
       "    <tr>\n",
       "      <th>333331</th>\n",
       "      <td>gollgo</td>\n",
       "      <td>2.1612781048123489870899905115525e-08</td>\n",
       "    </tr>\n",
       "    <tr>\n",
       "      <th>333332</th>\n",
       "      <td>golgw</td>\n",
       "      <td>2.1612781048123489870899905115525e-08</td>\n",
       "    </tr>\n",
       "  </tbody>\n",
       "</table>\n",
       "<p>333333 rows × 2 columns</p>\n",
       "</div>"
      ],
      "text/plain": [
       "           word                                  count\n",
       "0           the    0.039338375070905469361116733518407\n",
       "1            of    0.022362525338300483121980267461494\n",
       "2           and     0.02210015761953702659133231416216\n",
       "3            to    0.020636764209678229359080248573774\n",
       "4             a    0.015440912627459126472746086446833\n",
       "...         ...                                    ...\n",
       "333328    gooek  2.1612781048123489870899905115525e-08\n",
       "333329   gooddg  2.1612781048123489870899905115525e-08\n",
       "333330  gooblle  2.1612781048123489870899905115525e-08\n",
       "333331   gollgo  2.1612781048123489870899905115525e-08\n",
       "333332    golgw  2.1612781048123489870899905115525e-08\n",
       "\n",
       "[333333 rows x 2 columns]"
      ]
     },
     "execution_count": 31,
     "metadata": {},
     "output_type": "execute_result"
    }
   ],
   "source": []
  },
  {
   "cell_type": "code",
   "execution_count": null,
   "metadata": {},
   "outputs": [],
   "source": []
  }
 ],
 "metadata": {
  "kernelspec": {
   "display_name": "Python 3.10.2 ('env': venv)",
   "language": "python",
   "name": "python3"
  },
  "language_info": {
   "codemirror_mode": {
    "name": "ipython",
    "version": 3
   },
   "file_extension": ".py",
   "mimetype": "text/x-python",
   "name": "python",
   "nbconvert_exporter": "python",
   "pygments_lexer": "ipython3",
   "version": "3.10.2"
  },
  "orig_nbformat": 4,
  "vscode": {
   "interpreter": {
    "hash": "fb3e5117b8b54cbcec8989d817304960b17a97bb79e3621d85e1fcfe51840d0a"
   }
  }
 },
 "nbformat": 4,
 "nbformat_minor": 2
}
