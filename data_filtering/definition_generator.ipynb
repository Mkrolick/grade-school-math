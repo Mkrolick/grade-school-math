{
 "cells": [
  {
   "cell_type": "code",
   "execution_count": 1,
   "metadata": {},
   "outputs": [
    {
     "name": "stderr",
     "output_type": "stream",
     "text": [
      "c:\\Users\\malco\\OneDrive\\Documents\\GitHub\\grade-school-math\\env\\lib\\site-packages\\tqdm\\auto.py:22: TqdmWarning: IProgress not found. Please update jupyter and ipywidgets. See https://ipywidgets.readthedocs.io/en/stable/user_install.html\n",
      "  from .autonotebook import tqdm as notebook_tqdm\n"
     ]
    },
    {
     "name": "stdout",
     "output_type": "stream",
     "text": [
      "Loaded Word Frequency with a size of 333333\n"
     ]
    }
   ],
   "source": [
    "from utils import *\n",
    "from word_frequency import *\n",
    "\n",
    "\n",
    "DataWrapper = WordDataWrapper()\n",
    "# get synonym of sheep\n",
    "\n",
    "syno_list = synonyms(\"car\")\n",
    "\n"
   ]
  },
  {
   "cell_type": "code",
   "execution_count": 4,
   "metadata": {},
   "outputs": [
    {
     "name": "stdout",
     "output_type": "stream",
     "text": [
      "243\n",
      "[844, 5766, 1152, 102834, 37864, False, 83461, False, False, False]\n"
     ]
    }
   ],
   "source": [
    "print(word_to_beat_index(\"car\"))\n",
    "\n",
    "print([word_index(x) for x in syno_list])"
   ]
  },
  {
   "cell_type": "code",
   "execution_count": 5,
   "metadata": {},
   "outputs": [],
   "source": [
    "def test_word(word):\n",
    "    for word in [word_index(x) for x in synonyms(word)]:\n",
    "        if word < word_to_beat_index(word) and word:\n",
    "            return  \"Working\"\n",
    "        else:\n",
    "            return \"Failing\""
   ]
  },
  {
   "cell_type": "code",
   "execution_count": null,
   "metadata": {},
   "outputs": [],
   "source": []
  }
 ],
 "metadata": {
  "kernelspec": {
   "display_name": "env",
   "language": "python",
   "name": "python3"
  },
  "language_info": {
   "codemirror_mode": {
    "name": "ipython",
    "version": 3
   },
   "file_extension": ".py",
   "mimetype": "text/x-python",
   "name": "python",
   "nbconvert_exporter": "python",
   "pygments_lexer": "ipython3",
   "version": "3.10.9"
  },
  "orig_nbformat": 4,
  "vscode": {
   "interpreter": {
    "hash": "708b99c6c03df114470a5a9bc4e0a0e7696e9aad15535a2bf14f9a2e75bddcbc"
   }
  }
 },
 "nbformat": 4,
 "nbformat_minor": 2
}
