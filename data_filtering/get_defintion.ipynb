{
 "cells": [
  {
   "cell_type": "code",
   "execution_count": 2,
   "metadata": {},
   "outputs": [
    {
     "name": "stdout",
     "output_type": "stream",
     "text": [
      "{\"word\":\"hatchback\",\"typeOf\":[\"car door\",\"auto\",\"automobile\",\"car\",\"machine\",\"motorcar\"]}\n"
     ]
    }
   ],
   "source": [
    "import requests\n",
    "\n",
    "word = \"hatchback\"\n",
    "\n",
    "url = f\"https://wordsapiv1.p.rapidapi.com/words/{word}/typeOf\"\n",
    "\n",
    "headers = {\n",
    "\t\"X-RapidAPI-Key\": \"a7e0b72eaemsh7d1f9e16eaa45adp17146cjsndbcd43cf479f\",\n",
    "\t\"X-RapidAPI-Host\": \"wordsapiv1.p.rapidapi.com\"\n",
    "}\n",
    "\n",
    "response = requests.request(\"GET\", url, headers=headers)\n",
    "\n",
    "print(response.text)"
   ]
  },
  {
   "cell_type": "code",
   "execution_count": 9,
   "metadata": {},
   "outputs": [
    {
     "name": "stdout",
     "output_type": "stream",
     "text": [
      "{\"word\":\"incredible\",\"definitions\":[{\"definition\":\"beyond belief or understanding\",\"partOfSpeech\":\"adjective\"}]}\n"
     ]
    }
   ],
   "source": [
    "import requests\n",
    "\n",
    "url = \"https://wordsapiv1.p.rapidapi.com/words/incredible/definitions\"\n",
    "\n",
    "headers = {\n",
    "\t\"X-RapidAPI-Key\": \"a7e0b72eaemsh7d1f9e16eaa45adp17146cjsndbcd43cf479f\",\n",
    "\t\"X-RapidAPI-Host\": \"wordsapiv1.p.rapidapi.com\"\n",
    "}\n",
    "\n",
    "response = requests.request(\"GET\", url, headers=headers)\n",
    "\n",
    "print(response.text)"
   ]
  },
  {
   "cell_type": "code",
   "execution_count": 18,
   "metadata": {},
   "outputs": [],
   "source": [
    "import requests\n",
    "import ast\n",
    "import re\n",
    "\n",
    "\n",
    "# add threading to improve speed\n",
    "def define(word, remove_gaps = False):\n",
    "\n",
    "    try:\n",
    "        url = f\"https://wordsapiv1.p.rapidapi.com/words/{word}/definitions\"\n",
    "\n",
    "        headers = {\n",
    "            \"X-RapidAPI-Key\": \"a7e0b72eaemsh7d1f9e16eaa45adp17146cjsndbcd43cf479f\",\n",
    "            \"X-RapidAPI-Host\": \"wordsapiv1.p.rapidapi.com\"\n",
    "        }\n",
    "\n",
    "        response = requests.request(\"GET\", url, headers=headers)\n",
    "        \n",
    "        response_object = ast.literal_eval(response.text)\n",
    "        print(response_object)\n",
    "\n",
    "        # check if works\n",
    "        if \"success\" in response_object.keys():\n",
    "            raise \"Error Word Does Not Exist\"\n",
    "        else:\n",
    "            \n",
    "            #grab definitions\n",
    "            definitions = [x[\"definition\"] for x in response_object[\"definitions\"]]\n",
    "\n",
    "            if remove_gaps:\n",
    "                new_definition = []\n",
    "                \n",
    "                for definition in definitions:\n",
    "                    definition = re.split(';.', definition)[0]\n",
    "                    new_definition.append(definition)\n",
    "                \n",
    "                return new_definition\n",
    "\n",
    "            return definitions\n",
    "    except:\n",
    "        raise \"Error Word Does Not Exist\"\n",
    "\n"
   ]
  },
  {
   "cell_type": "code",
   "execution_count": 19,
   "metadata": {},
   "outputs": [
    {
     "name": "stdout",
     "output_type": "stream",
     "text": [
      "{'word': 'car', 'definitions': [{'definition': 'a motor vehicle with four wheels; usually propelled by an internal combustion engine', 'partOfSpeech': 'noun'}, {'definition': 'the compartment that is suspended from an airship and that carries personnel and the cargo and the power plant', 'partOfSpeech': 'noun'}, {'definition': 'where passengers ride up and down', 'partOfSpeech': 'noun'}, {'definition': 'a wheeled vehicle adapted to the rails of railroad', 'partOfSpeech': 'noun'}, {'definition': 'a conveyance for passengers or freight on a cable railway', 'partOfSpeech': 'noun'}]}\n"
     ]
    },
    {
     "data": {
      "text/plain": [
       "['a motor vehicle with four wheels; usually propelled by an internal combustion engine',\n",
       " 'the compartment that is suspended from an airship and that carries personnel and the cargo and the power plant',\n",
       " 'where passengers ride up and down',\n",
       " 'a wheeled vehicle adapted to the rails of railroad',\n",
       " 'a conveyance for passengers or freight on a cable railway']"
      ]
     },
     "execution_count": 19,
     "metadata": {},
     "output_type": "execute_result"
    }
   ],
   "source": [
    "define(\"car\")"
   ]
  },
  {
   "cell_type": "code",
   "execution_count": null,
   "metadata": {},
   "outputs": [],
   "source": []
  }
 ],
 "metadata": {
  "kernelspec": {
   "display_name": "Python 3.10.8 ('env': venv)",
   "language": "python",
   "name": "python3"
  },
  "language_info": {
   "codemirror_mode": {
    "name": "ipython",
    "version": 3
   },
   "file_extension": ".py",
   "mimetype": "text/x-python",
   "name": "python",
   "nbconvert_exporter": "python",
   "pygments_lexer": "ipython3",
   "version": "3.10.8"
  },
  "orig_nbformat": 4,
  "vscode": {
   "interpreter": {
    "hash": "708b99c6c03df114470a5a9bc4e0a0e7696e9aad15535a2bf14f9a2e75bddcbc"
   }
  }
 },
 "nbformat": 4,
 "nbformat_minor": 2
}
