{
 "cells": [
  {
   "cell_type": "code",
   "execution_count": 6,
   "metadata": {},
   "outputs": [],
   "source": [
    "from dotenv import load_dotenv\n",
    "from os import getenv\n",
    "load_dotenv()\n",
    "\n",
    "\n",
    "# make a decorator to keep api key safe by assigning none after execution of function"
   ]
  },
  {
   "cell_type": "code",
   "execution_count": null,
   "metadata": {},
   "outputs": [],
   "source": [
    "import requests\n",
    "\n",
    "\n",
    "RapidApiKey = getenv(\"RAPID_API_KEY\")\n",
    "\n",
    "word = \"hatchback\"\n",
    "\n",
    "url = f\"https://wordsapiv1.p.rapidapi.com/words/{word}/typeOf\"\n",
    "\n",
    "headers = {\n",
    "\t\"X-RapidAPI-Key\": RapidApiKey,\n",
    "\t\"X-RapidAPI-Host\": \"wordsapiv1.p.rapidapi.com\"\n",
    "}\n",
    "\n",
    "response = requests.request(\"GET\", url, headers=headers)\n",
    "\n",
    "print(response.text)\n",
    "\n",
    "\n",
    "RapidApiKey = None"
   ]
  },
  {
   "cell_type": "code",
   "execution_count": null,
   "metadata": {},
   "outputs": [],
   "source": [
    "import requests\n",
    "\n",
    "RapidApiKey = getenv(\"RAPID_API_KEY\")\n",
    "\n",
    "url = \"https://wordsapiv1.p.rapidapi.com/words/incredible/definitions\"\n",
    "\n",
    "headers = {\n",
    "\t\"X-RapidAPI-Key\": RapidApiKey,\n",
    "\t\"X-RapidAPI-Host\": \"wordsapiv1.p.rapidapi.com\"\n",
    "}\n",
    "\n",
    "response = requests.request(\"GET\", url, headers=headers)\n",
    "\n",
    "print(response.text)\n",
    "\n",
    "\n",
    "\n",
    "RapidApiKey = None"
   ]
  },
  {
   "cell_type": "code",
   "execution_count": null,
   "metadata": {},
   "outputs": [],
   "source": [
    "import requests\n",
    "import ast\n",
    "import re\n",
    "\n",
    "\n",
    "# add threading to improve speed\n",
    "def define(word, remove_gaps = False):\n",
    "\n",
    "    try:\n",
    "        RapidApiKey = getenv(\"RAPID_API_KEY\")\n",
    "\n",
    "        url = f\"https://wordsapiv1.p.rapidapi.com/words/{word}/definitions\"\n",
    "\n",
    "        headers = {\n",
    "            \"X-RapidAPI-Key\": RapidApiKey,\n",
    "            \"X-RapidAPI-Host\": \"wordsapiv1.p.rapidapi.com\"\n",
    "        }\n",
    "\n",
    "        response = requests.request(\"GET\", url, headers=headers)\n",
    "        \n",
    "        response_object = ast.literal_eval(response.text)\n",
    "        print(response_object)\n",
    "\n",
    "        # check if works\n",
    "        if \"success\" in response_object.keys():\n",
    "            raise \"Error Word Does Not Exist\"\n",
    "        else:\n",
    "            \n",
    "            #grab definitions\n",
    "            definitions = [x[\"definition\"] for x in response_object[\"definitions\"]]\n",
    "\n",
    "            if remove_gaps:\n",
    "                new_definition = []\n",
    "                \n",
    "                for definition in definitions:\n",
    "                    definition = re.split(';.', definition)[0]\n",
    "                    new_definition.append(definition)\n",
    "                \n",
    "                return new_definition\n",
    "\n",
    "            return definitions\n",
    "    except:\n",
    "        raise \"Error Word Does Not Exist\"\n",
    "\n",
    "RapidApiKey = None"
   ]
  },
  {
   "cell_type": "code",
   "execution_count": null,
   "metadata": {},
   "outputs": [],
   "source": [
    "define(\"car\", remove_gaps=True)"
   ]
  },
  {
   "cell_type": "code",
   "execution_count": null,
   "metadata": {},
   "outputs": [],
   "source": [
    "import pandas as pd\n",
    "\n",
    "data = pd.read_csv(\"english_word_data/unigram_freq.csv\")\n",
    "data"
   ]
  },
  {
   "cell_type": "code",
   "execution_count": null,
   "metadata": {},
   "outputs": [],
   "source": [
    "import numpy as np\n",
    "from decimal import *\n",
    "\n",
    "#with localcontext() as context:\n",
    "#    context.prec = 33\n",
    "#    print(Decimal(\n",
    "#        (values - min)/(max-min) \n",
    "#    ))\n",
    "\n",
    "def normalize_column(values):\n",
    "    min = np.min(values)\n",
    "    max = np.max(values)\n",
    "\n",
    "    with localcontext() as context:\n",
    "        context.prec = 2560000000\n",
    "        norm = (values - min)/(max-min) \n",
    "        return(pd.DataFrame(norm))\n",
    "\n",
    "\n"
   ]
  },
  {
   "cell_type": "code",
   "execution_count": null,
   "metadata": {},
   "outputs": [],
   "source": [
    "normalize_column(data[\"count\"].iloc[[333329]]).dtypes"
   ]
  },
  {
   "cell_type": "code",
   "execution_count": null,
   "metadata": {},
   "outputs": [],
   "source": [
    "data[\"count\"].normalize()"
   ]
  },
  {
   "cell_type": "code",
   "execution_count": null,
   "metadata": {},
   "outputs": [],
   "source": [
    "import pandas as pd\n",
    "from sklearn import preprocessing\n",
    "\n",
    "data = {'score': [234,24,14,27,-74,46,73,-18,59,160]}\n",
    "cols = data.columns\n",
    "df = pd.DataFrame(data)\n",
    "df\n",
    "\n",
    "min_max_scaler = preprocessing.MinMaxScaler()\n",
    "np_scaled = min_max_scaler.fit_transform(df)\n",
    "df_normalized = pd.DataFrame(np_scaled, columns = cols)\n",
    "df_normalized"
   ]
  },
  {
   "cell_type": "code",
   "execution_count": null,
   "metadata": {},
   "outputs": [],
   "source": []
  }
 ],
 "metadata": {
  "kernelspec": {
   "display_name": "Python 3.10.8 ('env': venv)",
   "language": "python",
   "name": "python3"
  },
  "language_info": {
   "codemirror_mode": {
    "name": "ipython",
    "version": 3
   },
   "file_extension": ".py",
   "mimetype": "text/x-python",
   "name": "python",
   "nbconvert_exporter": "python",
   "pygments_lexer": "ipython3",
   "version": "3.10.8"
  },
  "orig_nbformat": 4,
  "vscode": {
   "interpreter": {
    "hash": "708b99c6c03df114470a5a9bc4e0a0e7696e9aad15535a2bf14f9a2e75bddcbc"
   }
  }
 },
 "nbformat": 4,
 "nbformat_minor": 2
}
