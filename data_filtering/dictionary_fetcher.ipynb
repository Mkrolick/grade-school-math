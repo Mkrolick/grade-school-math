{
 "cells": [
  {
   "cell_type": "code",
   "execution_count": 2,
   "metadata": {},
   "outputs": [
    {
     "name": "stdout",
     "output_type": "stream",
     "text": [
      "7473 train examples\n",
      "1319 test examples\n"
     ]
    }
   ],
   "source": [
    "\n",
    "from dataset import get_examples\n",
    "\n",
    "train_data =  get_examples(\"train\")\n",
    "test_data = get_examples(\"test\")"
   ]
  },
  {
   "cell_type": "code",
   "execution_count": 3,
   "metadata": {},
   "outputs": [],
   "source": [
    "from string import punctuation\n",
    "\n",
    "def get_tokens(data):\n",
    "    tokens = []\n",
    "    for example in data:\n",
    "        tokens += example[\"question\"].split(\" \")\n",
    "        tokens += example[\"answer\"].split(\" \")\n",
    "    return tokens\n",
    "\n",
    "def filter_punctuation(tokens):\n",
    "    new_tokens = []\n",
    "    for token in tokens:\n",
    "        if token in punctuation:\n",
    "            tokens.remove(token)\n",
    "            continue\n",
    "\n",
    "        # remove \\n from tokens\n",
    "        elif token[-1:-2] == \"n\\\\\":\n",
    "            token = token[:-2]\n",
    "\n",
    "        elif token[0:1] == \"\\n\":\n",
    "            token = token[1:]\n",
    "            \n",
    "        \n",
    "            \n",
    "        # remove puncutation from the beggining or end of the token\n",
    "        if token[0] in punctuation:\n",
    "            token = token[1:]\n",
    "\n",
    "        elif token[-1] in punctuation:\n",
    "            token = token[:-1]\n",
    "\n",
    "        new_tokens.append(token)\n",
    "    return new_tokens\n",
    "\n",
    "\n",
    "\n"
   ]
  },
  {
   "cell_type": "code",
   "execution_count": 4,
   "metadata": {},
   "outputs": [
    {
     "data": {
      "text/plain": [
       "7473"
      ]
     },
     "execution_count": 4,
     "metadata": {},
     "output_type": "execute_result"
    }
   ],
   "source": [
    "len(train_data)"
   ]
  },
  {
   "cell_type": "code",
   "execution_count": 5,
   "metadata": {},
   "outputs": [],
   "source": [
    "tokens = get_tokens(train_data[1:2])"
   ]
  },
  {
   "cell_type": "code",
   "execution_count": 6,
   "metadata": {},
   "outputs": [],
   "source": [
    "tokens = filter_punctuation(tokens)"
   ]
  },
  {
   "cell_type": "code",
   "execution_count": null,
   "metadata": {},
   "outputs": [],
   "source": []
  }
 ],
 "metadata": {
  "kernelspec": {
   "display_name": "Python 3.10.8 ('env': venv)",
   "language": "python",
   "name": "python3"
  },
  "language_info": {
   "codemirror_mode": {
    "name": "ipython",
    "version": 3
   },
   "file_extension": ".py",
   "mimetype": "text/x-python",
   "name": "python",
   "nbconvert_exporter": "python",
   "pygments_lexer": "ipython3",
   "version": "3.10.8"
  },
  "orig_nbformat": 4,
  "vscode": {
   "interpreter": {
    "hash": "708b99c6c03df114470a5a9bc4e0a0e7696e9aad15535a2bf14f9a2e75bddcbc"
   }
  }
 },
 "nbformat": 4,
 "nbformat_minor": 2
}
