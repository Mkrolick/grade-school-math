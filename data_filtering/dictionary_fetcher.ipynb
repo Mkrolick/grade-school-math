{
 "cells": [
  {
   "cell_type": "code",
   "execution_count": 4,
   "metadata": {},
   "outputs": [
    {
     "name": "stdout",
     "output_type": "stream",
     "text": [
      "7473 train examples\n",
      "1319 test examples\n"
     ]
    }
   ],
   "source": [
    "\n",
    "from dataset import get_examples\n",
    "\n",
    "train_data =  get_examples(\"train\")\n",
    "test_data = get_examples(\"test\")"
   ]
  },
  {
   "cell_type": "code",
   "execution_count": 18,
   "metadata": {},
   "outputs": [],
   "source": [
    "from string import punctuation\n",
    "\n",
    "def get_tokens(data):\n",
    "    tokens = []\n",
    "    for example in data:\n",
    "        tokens += example[\"question\"].split(\" \")\n",
    "        tokens += example[\"answer\"].split(\" \")\n",
    "    return tokens\n",
    "\n",
    "def filter_punctuation(tokens):\n",
    "    new_tokens = []\n",
    "    for token in tokens:\n",
    "        if token in punctuation:\n",
    "            tokens.remove(token)\n",
    "            continue\n",
    "\n",
    "        # remove \\n from tokens\n",
    "        elif token[-1:-2] == \"n\\\\\":\n",
    "            token = token[:-2]\n",
    "\n",
    "        elif token[0:1] == \"\\n\":\n",
    "            token = token[1:]\n",
    "            \n",
    "        \n",
    "            \n",
    "        # remove puncutation from the beggining or end of the token\n",
    "        if token[0] in punctuation:\n",
    "            token = token[1:]\n",
    "\n",
    "        elif token[-1] in punctuation:\n",
    "            token = token[:-1]\n",
    "\n",
    "        new_tokens.append(token)\n",
    "    return new_tokens\n",
    "\n",
    "\n",
    "\n"
   ]
  },
  {
   "cell_type": "code",
   "execution_count": 19,
   "metadata": {},
   "outputs": [
    {
     "data": {
      "text/plain": [
       "7473"
      ]
     },
     "execution_count": 19,
     "metadata": {},
     "output_type": "execute_result"
    }
   ],
   "source": [
    "len(train_data)"
   ]
  },
  {
   "cell_type": "code",
   "execution_count": 22,
   "metadata": {},
   "outputs": [],
   "source": [
    "tokens = get_tokens(train_data[1:2])"
   ]
  },
  {
   "cell_type": "code",
   "execution_count": 23,
   "metadata": {},
   "outputs": [],
   "source": [
    "tokens = filter_punctuation(tokens)"
   ]
  },
  {
   "cell_type": "code",
   "execution_count": 24,
   "metadata": {},
   "outputs": [
    {
     "data": {
      "text/plain": [
       "['Weng',\n",
       " 'earns',\n",
       " '$12',\n",
       " 'an',\n",
       " 'hour',\n",
       " 'for',\n",
       " 'babysitting.',\n",
       " 'Yesterday,',\n",
       " 'she',\n",
       " 'just',\n",
       " 'did',\n",
       " '50',\n",
       " 'minutes',\n",
       " 'of',\n",
       " 'babysitting.',\n",
       " 'How',\n",
       " 'much',\n",
       " 'did',\n",
       " 'she',\n",
       " 'earn?\\n',\n",
       " 'Weng',\n",
       " 'earns',\n",
       " '12/60',\n",
       " '$<<12/60=0.2>>0.2',\n",
       " 'per',\n",
       " 'minute.\\nWorking',\n",
       " '50',\n",
       " 'minutes,',\n",
       " 'she',\n",
       " 'earned',\n",
       " '0.2',\n",
       " 'x',\n",
       " '50',\n",
       " '$<<0.2*50=10>>10.\\n####',\n",
       " '10<|endoftext|>']"
      ]
     },
     "execution_count": 24,
     "metadata": {},
     "output_type": "execute_result"
    }
   ],
   "source": [
    "tokens"
   ]
  },
  {
   "cell_type": "code",
   "execution_count": null,
   "metadata": {},
   "outputs": [],
   "source": []
  }
 ],
 "metadata": {
  "kernelspec": {
   "display_name": "Python 3.10.2 ('env': venv)",
   "language": "python",
   "name": "python3"
  },
  "language_info": {
   "codemirror_mode": {
    "name": "ipython",
    "version": 3
   },
   "file_extension": ".py",
   "mimetype": "text/x-python",
   "name": "python",
   "nbconvert_exporter": "python",
   "pygments_lexer": "ipython3",
   "version": "3.10.2"
  },
  "orig_nbformat": 4,
  "vscode": {
   "interpreter": {
    "hash": "fb3e5117b8b54cbcec8989d817304960b17a97bb79e3621d85e1fcfe51840d0a"
   }
  }
 },
 "nbformat": 4,
 "nbformat_minor": 2
}
