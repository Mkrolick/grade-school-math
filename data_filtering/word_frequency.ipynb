{
 "cells": [
  {
   "cell_type": "code",
   "execution_count": 3,
   "metadata": {},
   "outputs": [],
   "source": [
    "import gmpy2\n",
    "import numpy\n",
    "import pandas as pd\n",
    "from gmpy2 import mpfr\n",
    "\n",
    "\n",
    "#set precision: 100\n",
    "gmpy2.get_context().precision=100\n",
    "data = pd.read_csv(\"english_word_data/unigram_freq.csv\")\n",
    "data[\"count\"] = data[\"count\"].astype(str)\n",
    "data[\"count\"] = data[\"count\"].apply(lambda x: mpfr(x))\n",
    "total_vals = sum(data[\"count\"])\n",
    "data[\"count\"] = data[\"count\"].apply(lambda x: mpfr(x) / total_vals)\n",
    "\n"
   ]
  },
  {
   "cell_type": "code",
   "execution_count": 31,
   "metadata": {},
   "outputs": [],
   "source": [
    "# gets words index for a word\n",
    "\n",
    "def word_to_beat_index(word, array):\n",
    "    return numpy.where(array[\"word\"].values == word)[0][0]\n"
   ]
  },
  {
   "cell_type": "code",
   "execution_count": 37,
   "metadata": {},
   "outputs": [],
   "source": [
    "# returns data below the word's index\n",
    "\n",
    "def subset_data(data, word, include_word = True):\n",
    "    index = word_to_beat_index(word, data)\n",
    "    if include_word:\n",
    "        return data[index:]\n",
    "    else:\n",
    "        if index + 1 == len(data):\n",
    "            raise ValueError(\"No Words Left In Data\")\n",
    "        return data[index+1:]"
   ]
  },
  {
   "cell_type": "code",
   "execution_count": 44,
   "metadata": {},
   "outputs": [],
   "source": [
    "# returns data below the index\n",
    "\n",
    "def subset_data_index(data, index, include_word = True):\n",
    "    if include_word:\n",
    "        return data[index:]\n",
    "    else:\n",
    "        if index + 1 == len(data):\n",
    "            raise ValueError(\"No Words Left In Data\")\n",
    "        return data[index+1:] "
   ]
  },
  {
   "cell_type": "code",
   "execution_count": 58,
   "metadata": {},
   "outputs": [],
   "source": [
    "# returns data with a count below the count\n",
    "\n",
    "def subset_data_count(data, count, include_word = True):\n",
    "    if include_word == True:\n",
    "        return data[data[\"count\"] <= count]\n",
    "    else:\n",
    "        return data[data[\"count\"] < count]\n"
   ]
  },
  {
   "cell_type": "code",
   "execution_count": 61,
   "metadata": {},
   "outputs": [],
   "source": [
    "# for implementation\n",
    "def get_words_by_freq(data, count, include_word = True):\n",
    "    if include_word == True:\n",
    "        return data[data[\"count\"] <= count][\"word\"].values\n",
    "    else:\n",
    "        return data[data[\"count\"] < count][\"word\"].values"
   ]
  },
  {
   "cell_type": "code",
   "execution_count": 67,
   "metadata": {},
   "outputs": [
    {
     "data": {
      "text/plain": [
       "array(['first', 'am', 'been', ..., 'gooblle', 'gollgo', 'golgw'],\n",
       "      dtype=object)"
      ]
     },
     "execution_count": 67,
     "metadata": {},
     "output_type": "execute_result"
    }
   ],
   "source": [
    "# words could not be real words remember that\n",
    "\n",
    "get_words_by_freq(data, 0.001)"
   ]
  },
  {
   "cell_type": "code",
   "execution_count": null,
   "metadata": {},
   "outputs": [],
   "source": []
  }
 ],
 "metadata": {
  "kernelspec": {
   "display_name": "Python 3.10.2 ('env': venv)",
   "language": "python",
   "name": "python3"
  },
  "language_info": {
   "codemirror_mode": {
    "name": "ipython",
    "version": 3
   },
   "file_extension": ".py",
   "mimetype": "text/x-python",
   "name": "python",
   "nbconvert_exporter": "python",
   "pygments_lexer": "ipython3",
   "version": "3.10.2"
  },
  "orig_nbformat": 4,
  "vscode": {
   "interpreter": {
    "hash": "fb3e5117b8b54cbcec8989d817304960b17a97bb79e3621d85e1fcfe51840d0a"
   }
  }
 },
 "nbformat": 4,
 "nbformat_minor": 2
}
