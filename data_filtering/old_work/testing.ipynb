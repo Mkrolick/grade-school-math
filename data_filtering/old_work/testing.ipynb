{
 "cells": [
  {
   "cell_type": "code",
   "execution_count": 11,
   "metadata": {},
   "outputs": [
    {
     "name": "stdout",
     "output_type": "stream",
     "text": [
      "[4, 3]\n"
     ]
    }
   ],
   "source": [
    "import numpy as np\n",
    "\n",
    "a_str = ['c1', 'c2', 's1', 's2']\n",
    "b_str = ['c1', 's1', 'c2']\n",
    "\n",
    "combined_list = [a_str, b_str]\n",
    "list_iterator = [0 for x in range(len(combined_list))]\n",
    "\n",
    "max_iteratior = list_iterator.copy()\n",
    "for index, substitution_list in enumerate(combined_list):\n",
    "    max_iteratior[index] = len(substitution_list)\n",
    "\n",
    "print(max_iteratior)\n",
    "\n",
    "\n",
    "\n"
   ]
  },
  {
   "cell_type": "code",
   "execution_count": 42,
   "metadata": {},
   "outputs": [],
   "source": [
    "def do_thing(previous_index, sub_list):\n",
    "    sub_list.append()"
   ]
  },
  {
   "cell_type": "code",
   "execution_count": 43,
   "metadata": {},
   "outputs": [],
   "source": [
    "# my own multi dimensional list iterator :)\n",
    "def max_iterator(iterator_list, previous_index = []):\n",
    "    if len(iterator_list) > 0: \n",
    "        for i in range(iterator_list[-1]):\n",
    "            max_iterator(iterator_list[:-1], [i] + previous_index)\n",
    "    elif len(iterator_list) == 0:\n",
    "        do_thing(previous_index)\n",
    "        print(previous_index)\n",
    "\n",
    "    \n",
    "            \n",
    "\n"
   ]
  },
  {
   "cell_type": "code",
   "execution_count": 41,
   "metadata": {},
   "outputs": [
    {
     "name": "stdout",
     "output_type": "stream",
     "text": [
      "Cowab\n",
      "[0, 0]\n",
      "Cowab\n",
      "[1, 0]\n",
      "Cowab\n",
      "[2, 0]\n",
      "Cowab\n",
      "[3, 0]\n",
      "Cowab\n",
      "[0, 1]\n",
      "Cowab\n",
      "[1, 1]\n",
      "Cowab\n",
      "[2, 1]\n",
      "Cowab\n",
      "[3, 1]\n",
      "Cowab\n",
      "[0, 2]\n",
      "Cowab\n",
      "[1, 2]\n",
      "Cowab\n",
      "[2, 2]\n",
      "Cowab\n",
      "[3, 2]\n"
     ]
    }
   ],
   "source": [
    "def do_thing(previous_index):\n",
    "    print(\"Cowab\")\n",
    "\n",
    "a_str = ['c1', 'c2', 's1', 's2']\n",
    "b_str = ['c1', 's1', 'c2']\n",
    "\n",
    "sub_list = []\n",
    "\n",
    "combined_list = [a_str, b_str]\n",
    "iteration_list = [len(x) for x in combined_list]\n",
    "max_iterator(iteration_list)"
   ]
  },
  {
   "cell_type": "code",
   "execution_count": null,
   "metadata": {},
   "outputs": [],
   "source": []
  }
 ],
 "metadata": {
  "kernelspec": {
   "display_name": "env",
   "language": "python",
   "name": "python3"
  },
  "language_info": {
   "codemirror_mode": {
    "name": "ipython",
    "version": 3
   },
   "file_extension": ".py",
   "mimetype": "text/x-python",
   "name": "python",
   "nbconvert_exporter": "python",
   "pygments_lexer": "ipython3",
   "version": "3.10.9"
  },
  "orig_nbformat": 4,
  "vscode": {
   "interpreter": {
    "hash": "708b99c6c03df114470a5a9bc4e0a0e7696e9aad15535a2bf14f9a2e75bddcbc"
   }
  }
 },
 "nbformat": 4,
 "nbformat_minor": 2
}
